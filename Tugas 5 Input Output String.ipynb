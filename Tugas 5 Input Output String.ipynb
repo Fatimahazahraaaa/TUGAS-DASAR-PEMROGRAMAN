{
 "cells": [
  {
   "cell_type": "code",
   "execution_count": 6,
   "id": "8c2ddddd",
   "metadata": {},
   "outputs": [
    {
     "name": "stdout",
     "output_type": "stream",
     "text": [
      "Isikan Nama Anda: Siti Fatimah\n",
      "Isikan Tangga Lahir Anda: 10/08/2001\n",
      "Isikan Alamat Anda: SUKABUMI\n",
      "Isikan Umur Anda:22\n",
      "Isikan Agama Anda: ISLAM\n",
      "======BIODATA======\n",
      "Nama: Siti Fatimah\n",
      "Tanggal Lahir: 10/08/2001\n",
      "Alamat: SUKABUMI\n",
      "Umur: 22\n",
      "Agama: ISLAM\n",
      "Terima kasih, kak Siti Fatimah ^-^ sudah mengisi biodata\n"
     ]
    }
   ],
   "source": [
    "name = input(\"Isikan Nama Anda: \")\n",
    "tgl = input(\"Isikan Tangga Lahir Anda: \")\n",
    "alamat = input(\"Isikan Alamat Anda: \")\n",
    "umur= input(\"Isikan Umur Anda:\" )\n",
    "agama= input(\"Isikan Agama Anda: \")\n",
    "\n",
    "print(\"======BIODATA======\")\n",
    "print(\"Nama: {}\".format(name))\n",
    "print(\"Tanggal Lahir: {}\".format(tgl))\n",
    "print(\"Alamat: {}\".format(alamat))\n",
    "print('Umur: {}'.format(umur))\n",
    "print(\"Agama: {}\".format(agama))\n",
    "\n",
    "print(\"Terima kasih, kak\",name, \"^-^ sudah mengisi biodata\" )"
   ]
  },
  {
   "cell_type": "code",
   "execution_count": 2,
   "id": "15a2d5e5",
   "metadata": {},
   "outputs": [
    {
     "name": "stdout",
     "output_type": "stream",
     "text": [
      "putra nusa\n",
      "NIVERSITAS NSA PTRA SKABMI\n",
      "SUKABUMI PUTRA NUSA UNIVERSITAS\n",
      "UNPS\n",
      "TAS SAPU BUMI\n"
     ]
    }
   ],
   "source": [
    "#putra nusa\n",
    "kampus = \"UNIVERSITAS NUSA PUTRA SUKABUMI\"\n",
    "kampus_kecil = kampus.lower()\n",
    "nama_kampus = kampus_kecil.split()\n",
    "print(nama_kampus[2] + \" \" + nama_kampus[1])\n",
    "\n",
    "#NIVERSITAS NSA PTRA SKABMI\n",
    "nama_kampus = \"UNIVERSITAS NUSA PUTRA SUKABUMI\"\n",
    "nama_kampus = nama_kampus.replace(\"U\", \"\")\n",
    "print(nama_kampus)\n",
    "\n",
    "#SUKABUMI PUTRA NUSA UNIVERSITAS\n",
    "kampus = \"UNIVERSITAS NUSA PUTRA SUKABUMI\"\n",
    "nama_kampus = kampus.split()\n",
    "print(nama_kampus [3]+ \" \" + nama_kampus [2]+ \" \" + nama_kampus[1] +\" \"+ nama_kampus[0])\n",
    "\n",
    "#UNPS\n",
    "kampus = \"UNIVERSITAS NUSA PUTRA SUKABUMI\"\n",
    "nama_kampus= kampus.split()\n",
    "kampus = nama_kampus[0][0] + nama_kampus[1][0] + nama_kampus[2][0] + nama_kampus[3][0]\n",
    "print(kampus)\n",
    "\n",
    "#TAS SAPU BUMI\n",
    "nama_kampus =\"UNIVERSITAS NUSA PUTRA SUKABUMI\"\n",
    "print(nama_kampus [8:11]+\" \" + nama_kampus[14:19].replace(\" \",\"\") +\" \"+ nama_kampus [27:])"
   ]
  },
  {
   "cell_type": "code",
   "execution_count": 3,
   "id": "587fd885",
   "metadata": {},
   "outputs": [
    {
     "name": "stdout",
     "output_type": "stream",
     "text": [
      "TAS\n",
      "SAPU\n",
      "BUMI\n"
     ]
    }
   ],
   "source": [
    "#TAS SAPU BUMI\n",
    "nama_kampus =\"UNIVERSITAS NUSA PUTRA SUKABUMI\"\n",
    "print(nama_kampus[8:11])\n",
    "print(nama_kampus[14:19].replace(\" \", \"\"))\n",
    "print(nama_kampus[27:])\n"
   ]
  },
  {
   "cell_type": "code",
   "execution_count": null,
   "id": "e9f98e48",
   "metadata": {},
   "outputs": [],
   "source": []
  }
 ],
 "metadata": {
  "kernelspec": {
   "display_name": "Python 3 (ipykernel)",
   "language": "python",
   "name": "python3"
  },
  "language_info": {
   "codemirror_mode": {
    "name": "ipython",
    "version": 3
   },
   "file_extension": ".py",
   "mimetype": "text/x-python",
   "name": "python",
   "nbconvert_exporter": "python",
   "pygments_lexer": "ipython3",
   "version": "3.11.5"
  }
 },
 "nbformat": 4,
 "nbformat_minor": 5
}
